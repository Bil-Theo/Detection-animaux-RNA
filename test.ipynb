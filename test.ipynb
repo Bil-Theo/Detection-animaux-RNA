{
 "cells": [
  {
   "cell_type": "code",
   "execution_count": 43,
   "metadata": {},
   "outputs": [],
   "source": [
    "import numpy as np\n",
    "import matplotlib.pyplot as plt\n",
    "from sklearn.datasets import make_blobs as mb\n",
    "import myfunctions as fun"
   ]
  },
  {
   "cell_type": "code",
   "execution_count": 44,
   "metadata": {},
   "outputs": [],
   "source": [
    "X, y  = mb(n_samples=100, n_features=2, centers=2, random_state=0)\n",
    "y =y.reshape((y.shape[0],1))"
   ]
  },
  {
   "cell_type": "code",
   "execution_count": 45,
   "metadata": {},
   "outputs": [],
   "source": [
    "def initialisation(X):\n",
    "    #Cette fonction iniatilise les variables w et b avec des valeurs aleatoires\n",
    "    W = np.random.randn(X.shape[1],1)\n",
    "    b = np.random.randn(1)\n",
    "    return (W,b)"
   ]
  },
  {
   "cell_type": "code",
   "execution_count": 46,
   "metadata": {},
   "outputs": [],
   "source": [
    "def model(X, W, b):\n",
    "    Z = X.dot(W) + b\n",
    "    A = 1/(1 + np.exp(-Z))\n",
    "    return A\n"
   ]
  },
  {
   "cell_type": "code",
   "execution_count": 47,
   "metadata": {},
   "outputs": [],
   "source": [
    "def cost_function(A, y):\n",
    "    return 1/len(y)*np.sum(-y * np.log(A) - (1 - y) * np.log(1 - A))"
   ]
  },
  {
   "cell_type": "code",
   "execution_count": 10,
   "metadata": {},
   "outputs": [
    {
     "data": {
      "text/plain": [
       "array([[ 0.02510521],\n",
       "       [-1.12192864],\n",
       "       [ 1.66654527],\n",
       "       ...,\n",
       "       [ 1.04487683],\n",
       "       [-0.22659801],\n",
       "       [-0.73029498]])"
      ]
     },
     "execution_count": 10,
     "metadata": {},
     "output_type": "execute_result"
    }
   ],
   "source": [
    "import pickle\n",
    "\n",
    "with open(\"./datasets/deep_model.data\", 'rb') as file:\n",
    "    res = pickle.Unpickler(file).load()  \n",
    "\n",
    "res['coef_neuron']"
   ]
  }
 ],
 "metadata": {
  "kernelspec": {
   "display_name": "Python 3",
   "language": "python",
   "name": "python3"
  },
  "language_info": {
   "codemirror_mode": {
    "name": "ipython",
    "version": 3
   },
   "file_extension": ".py",
   "mimetype": "text/x-python",
   "name": "python",
   "nbconvert_exporter": "python",
   "pygments_lexer": "ipython3",
   "version": "3.10.1"
  },
  "orig_nbformat": 4,
  "vscode": {
   "interpreter": {
    "hash": "3193fb0accdef9f6fd17129b1244c82338b3542ece22c46308cd1f58e620e808"
   }
  }
 },
 "nbformat": 4,
 "nbformat_minor": 2
}
